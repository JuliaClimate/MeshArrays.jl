{
 "cells": [
  {
   "cell_type": "markdown",
   "metadata": {},
   "source": [
    "# Benchmarking `MeshArrays` performance\n",
    "\n",
    "- Started in 2018/09 (`gaelforget`)\n",
    "- Reformated in 2019/08 (`gaelforget`)\n",
    "- Added to repo in 2020/01 (`gaelforget`)"
   ]
  },
  {
   "cell_type": "markdown",
   "metadata": {},
   "source": [
    "**2020/01/25 using julia 1.3**\n",
    "\n",
    "_note the speedup in `GridLoad` & `LatitudeCircles` & `demo3` benchmarks_\n",
    "\n",
    "```\n",
    "gradient          263.030 μs (243 allocations: 3.69 MiB)\n",
    "smooth             24.818 ms (11314 allocations: 238.19 MiB)\n",
    "\n",
    "GridLoad           75.318 ms (7913 allocations: 663.22 MiB)\n",
    "read_bin          177.079 μs (65 allocations: 2.01 MiB)\n",
    "LatitudeCircles   603.469 ms (260018 allocations: 3.17 GiB)\n",
    "ThroughFlow loop   52.728 ms (752206 allocations: 23.48 MiB)\n",
    "demo3             643.774 ms (1012062 allocations: 3.19 GiB)\n",
    "```\n",
    "\n",
    "**2019/08/08 using julia 1.1**\n",
    "\n",
    "```\n",
    "gradient          299.661 μs (318 allocations: 3.69 MiB)\n",
    "smooth             34.006 ms (15572 allocations: 238.32 MiB)\n",
    "\n",
    "GridLoad          337.105 ms (1960 allocations: 530.35 MiB)\n",
    "read_bin          191.141 μs (61 allocations: 1.61 MiB)\n",
    "LatitudeCircles     2.904 s (1511608 allocations: 4.42 GiB)\n",
    "ThroughFlow loop   65.804 ms (752743 allocations: 24.46 MiB)\n",
    "demo3               2.581 s (2264189 allocations: 4.44 GiB)\n",
    "```"
   ]
  },
  {
   "cell_type": "code",
   "execution_count": 1,
   "metadata": {},
   "outputs": [
    {
     "data": {
      "text/plain": [
       "demo3 (generic function with 2 methods)"
      ]
     },
     "execution_count": 1,
     "metadata": {},
     "output_type": "execute_result"
    }
   ],
   "source": [
    "using BenchmarkTools\n",
    "using MeshArrays\n",
    "p=dirname(pathof(MeshArrays))\n",
    "include(joinpath(p,\"../examples/Demos.jl\"))"
   ]
  },
  {
   "cell_type": "code",
   "execution_count": 2,
   "metadata": {},
   "outputs": [],
   "source": [
    "cd(\"/Users/gforget/mywork/data/\")"
   ]
  },
  {
   "cell_type": "markdown",
   "metadata": {},
   "source": [
    "## Benchmark 1\n",
    "\n",
    "This uses `demo2 / smooth` as done in `2018/09` to test exchanges and array operations."
   ]
  },
  {
   "cell_type": "code",
   "execution_count": 3,
   "metadata": {},
   "outputs": [
    {
     "name": "stdout",
     "output_type": "stream",
     "text": [
      "  257.851 μs (243 allocations: 3.69 MiB)\n",
      "  25.089 ms (11314 allocations: 238.19 MiB)\n"
     ]
    }
   ],
   "source": [
    "GridVariables=GridOfOnes(\"CubeSphere\",6,100);\n",
    "(Rini,Rend,DXCsm,DYCsm)=demo2(GridVariables);\n",
    "@btime (dFLDdx, dFLDdy)=gradient(Rini,GridVariables);\n",
    "@btime Rend=smooth(Rini,DXCsm,DYCsm,GridVariables);"
   ]
  },
  {
   "cell_type": "markdown",
   "metadata": {},
   "source": [
    "**2019/08/08**\n",
    "```\n",
    "299.661 μs (318 allocations: 3.69 MiB)\n",
    " 34.006 ms (15572 allocations: 238.32 MiB)\n",
    "```"
   ]
  },
  {
   "cell_type": "markdown",
   "metadata": {},
   "source": [
    "## Benchmark 2\n",
    "\n",
    "This uses `demo3` to test indexing type operations."
   ]
  },
  {
   "cell_type": "code",
   "execution_count": 4,
   "metadata": {},
   "outputs": [],
   "source": [
    "mygrid=GridSpec(\"LatLonCap\",\"GRID_LLC90/\")\n",
    "GridVariables=GridLoad(mygrid)\n",
    "TrspX=mygrid.read(mygrid.path*\"TrspX.bin\",MeshArray(mygrid,Float32))\n",
    "TrspY=mygrid.read(mygrid.path*\"TrspY.bin\",MeshArray(mygrid,Float32))\n",
    "TauX=mygrid.read(mygrid.path*\"TauX.bin\",MeshArray(mygrid,Float32))\n",
    "TauY=mygrid.read(mygrid.path*\"TauY.bin\",MeshArray(mygrid,Float32))\n",
    "SSH=mygrid.read(mygrid.path*\"SSH.bin\",MeshArray(mygrid,Float32))\n",
    "(UV, LC, Tr)=demo3(TrspX,TrspY,GridVariables);"
   ]
  },
  {
   "cell_type": "code",
   "execution_count": 5,
   "metadata": {},
   "outputs": [
    {
     "name": "stdout",
     "output_type": "stream",
     "text": [
      "  80.103 ms (7913 allocations: 663.22 MiB)\n",
      "  172.700 μs (65 allocations: 2.01 MiB)\n",
      "  645.794 ms (260018 allocations: 3.17 GiB)\n",
      "  57.904 ms (752206 allocations: 23.48 MiB)\n",
      "  695.644 ms (1012062 allocations: 3.19 GiB)\n"
     ]
    }
   ],
   "source": [
    "@btime GridVariables=GridLoad(mygrid)\n",
    "@btime mygrid.read(mygrid.path*\"TrspX.bin\",MeshArray(mygrid,Float32))\n",
    "@btime LC=LatitudeCircles(-89.0:89.0,GridVariables)\n",
    "@btime for i=1:length(LC); ThroughFlow(UV,LC[i],GridVariables); end\n",
    "@btime (UV, LC, Tr)=demo3(TrspX,TrspY,GridVariables);"
   ]
  },
  {
   "cell_type": "markdown",
   "metadata": {},
   "source": [
    "**2019/08/08**\n",
    "```\n",
    "257.936 ms (1960 allocations: 530.35 MiB)\n",
    "177.847 μs (61 allocations: 1.61 MiB)\n",
    "  2.297 s  (1511608 allocations: 4.42 GiB)\n",
    " 60.967 ms (752743 allocations: 24.46 MiB)\n",
    "  2.305 s  (2264189 allocations: 4.44 GiB)\n",
    "```"
   ]
  }
 ],
 "metadata": {
  "@webio": {
   "lastCommId": null,
   "lastKernelId": null
  },
  "jupytext": {
   "cell_metadata_filter": "-all",
   "formats": "ipynb,jl:light",
   "notebook_metadata_filter": "-all"
  },
  "kernelspec": {
   "display_name": "Julia 1.3.0-rc4",
   "language": "julia",
   "name": "julia-1.3"
  },
  "language_info": {
   "file_extension": ".jl",
   "mimetype": "application/julia",
   "name": "julia",
   "version": "1.3.0"
  }
 },
 "nbformat": 4,
 "nbformat_minor": 2
}
