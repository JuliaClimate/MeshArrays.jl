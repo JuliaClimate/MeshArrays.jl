{
 "cells": [
  {
   "cell_type": "markdown",
   "metadata": {},
   "source": [
    "# Benchmarking `MeshArrays` performance\n",
    "\n",
    "- Started in 2018/09 (`gaelforget`)\n",
    "- Reformated in 2019/08 (`gaelforget`)\n",
    "- Added to repo in 2020/01 (`gaelforget`)"
   ]
  },
  {
   "cell_type": "markdown",
   "metadata": {},
   "source": [
    "**2021/02/26 using julia 1.5**\n",
    "\n",
    "_note the speedup in `GridLoad` & `LatitudeCircles` & `demo3` benchmarks_\n",
    "\n",
    "```\n",
    "gradient          274.532 μs (231 allocations: 3.69 MiB)\n",
    "smooth             24.581 ms (10845 allocations: 238.25 MiB)\n",
    "\n",
    "GridLoad               80.133 ms (8285 allocations: 663.26 MiB)\n",
    "read_bin              151.670 μs (71 allocations: 2.01 MiB)\n",
    "LatitudeCircles       647.875 ms (254111 allocations: 3.17 GiB)\n",
    "ThroughFlow            43.826 ms (751490 allocations: 29.59 MiB)\n",
    "demo3                 688.477 ms (1005446 allocations: 3.20 GiB)\n",
    "```\n",
    "\n",
    "**2019/08/08 using julia 1.1**\n",
    "\n",
    "```\n",
    "gradient          299.661 μs (318 allocations: 3.69 MiB)\n",
    "smooth             34.006 ms (15572 allocations: 238.32 MiB)\n",
    "\n",
    "GridLoad          337.105 ms (1960 allocations: 530.35 MiB)\n",
    "read_bin          191.141 μs (61 allocations: 1.61 MiB)\n",
    "LatitudeCircles     2.904 s (1511608 allocations: 4.42 GiB)\n",
    "ThroughFlow loop   65.804 ms (752743 allocations: 24.46 MiB)\n",
    "demo3               2.581 s (2264189 allocations: 4.44 GiB)\n",
    "```"
   ]
  },
  {
   "cell_type": "code",
   "execution_count": 1,
   "metadata": {},
   "outputs": [
    {
     "name": "stderr",
     "output_type": "stream",
     "text": [
      "┌ Info: Precompiling MeshArrays [cb8c808f-1acf-59a3-9d2b-6e38d009f683]\n",
      "└ @ Base loading.jl:1278\n"
     ]
    },
    {
     "data": {
      "text/plain": [
       "demo3 (generic function with 2 methods)"
      ]
     },
     "execution_count": 1,
     "metadata": {},
     "output_type": "execute_result"
    }
   ],
   "source": [
    "using BenchmarkTools\n",
    "using MeshArrays\n",
    "p=dirname(pathof(MeshArrays))\n",
    "include(joinpath(p,\"../examples/Demos.jl\"))"
   ]
  },
  {
   "cell_type": "code",
   "execution_count": 2,
   "metadata": {},
   "outputs": [],
   "source": [
    "cd(\"/Users/gforget/mywork/data/\")"
   ]
  },
  {
   "cell_type": "markdown",
   "metadata": {},
   "source": [
    "## Benchmark 1\n",
    "\n",
    "This uses `demo2 / smooth` as done in `2018/09` to test exchanges and array operations."
   ]
  },
  {
   "cell_type": "code",
   "execution_count": 3,
   "metadata": {},
   "outputs": [
    {
     "name": "stdout",
     "output_type": "stream",
     "text": [
      "  274.532 μs (231 allocations: 3.69 MiB)\n",
      "  24.581 ms (10845 allocations: 238.25 MiB)\n"
     ]
    }
   ],
   "source": [
    "γ,Γ=GridOfOnes(\"CubeSphere\",6,100);\n",
    "(Rini,Rend,DXCsm,DYCsm)=demo2(Γ);\n",
    "@btime (dFLDdx, dFLDdy)=gradient(Rini,Γ);\n",
    "@btime Rend=smooth(Rini,DXCsm,DYCsm,Γ);"
   ]
  },
  {
   "cell_type": "markdown",
   "metadata": {},
   "source": [
    "**2019/08/08**\n",
    "```\n",
    "299.661 μs (318 allocations: 3.69 MiB)\n",
    " 34.006 ms (15572 allocations: 238.32 MiB)\n",
    "```"
   ]
  },
  {
   "cell_type": "markdown",
   "metadata": {},
   "source": [
    "## Benchmark 2\n",
    "\n",
    "This uses `demo3` to test indexing type operations."
   ]
  },
  {
   "cell_type": "code",
   "execution_count": 4,
   "metadata": {},
   "outputs": [],
   "source": [
    "γ=GridSpec(\"LatLonCap\",\"GRID_LLC90/\")\n",
    "Γ=GridLoad(γ)\n",
    "TrspX=γ.read(γ.path*\"TrspX.bin\",MeshArray(γ,Float32))\n",
    "TrspY=γ.read(γ.path*\"TrspY.bin\",MeshArray(γ,Float32))\n",
    "TauX=γ.read(γ.path*\"TauX.bin\",MeshArray(γ,Float32))\n",
    "TauY=γ.read(γ.path*\"TauY.bin\",MeshArray(γ,Float32))\n",
    "SSH=γ.read(γ.path*\"SSH.bin\",MeshArray(γ,Float32))\n",
    "(UV, LC, Tr)=demo3(TrspX,TrspY,Γ);"
   ]
  },
  {
   "cell_type": "code",
   "execution_count": 5,
   "metadata": {},
   "outputs": [
    {
     "name": "stdout",
     "output_type": "stream",
     "text": [
      "  80.133 ms (8285 allocations: 663.26 MiB)\n",
      "  151.670 μs (71 allocations: 2.01 MiB)\n",
      "  647.875 ms (254111 allocations: 3.17 GiB)\n",
      "  43.826 ms (751490 allocations: 29.59 MiB)\n",
      "  688.477 ms (1005446 allocations: 3.20 GiB)\n"
     ]
    }
   ],
   "source": [
    "@btime Γ=GridLoad(γ)\n",
    "@btime γ.read(γ.path*\"TrspX.bin\",MeshArray(γ,Float32))\n",
    "@btime LC=LatitudeCircles(-89.0:89.0,Γ)\n",
    "@btime for i=1:length(LC); ThroughFlow(UV,LC[i],Γ); end\n",
    "@btime (UV, LC, Tr)=demo3(TrspX,TrspY,Γ);"
   ]
  },
  {
   "cell_type": "markdown",
   "metadata": {},
   "source": [
    "**2019/08/08**\n",
    "```\n",
    "257.936 ms (1960 allocations: 530.35 MiB)\n",
    "177.847 μs (61 allocations: 1.61 MiB)\n",
    "  2.297 s  (1511608 allocations: 4.42 GiB)\n",
    " 60.967 ms (752743 allocations: 24.46 MiB)\n",
    "  2.305 s  (2264189 allocations: 4.44 GiB)\n",
    "```"
   ]
  }
 ],
 "metadata": {
  "@webio": {
   "lastCommId": null,
   "lastKernelId": null
  },
  "jupytext": {
   "cell_metadata_filter": "-all",
   "formats": "ipynb,jl:light",
   "notebook_metadata_filter": "-all"
  },
  "kernelspec": {
   "display_name": "Julia 1.5.0",
   "language": "julia",
   "name": "julia-1.5"
  },
  "language_info": {
   "file_extension": ".jl",
   "mimetype": "application/julia",
   "name": "julia",
   "version": "1.5.0"
  }
 },
 "nbformat": 4,
 "nbformat_minor": 4
}
